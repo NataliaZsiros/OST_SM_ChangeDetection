{
 "cells": [
  {
   "cell_type": "code",
   "execution_count": null,
   "metadata": {},
   "outputs": [],
   "source": [
    "from confluent_kafka import Producer\n",
    "import csv\n",
    "import time"
   ]
  },
  {
   "cell_type": "code",
   "execution_count": null,
   "metadata": {},
   "outputs": [],
   "source": [
    "# Define the Kafka broker and topic\n",
    "broker = 'localhost:9092' \n",
    "topic = 'input'  # Change to your Kafka topic\n",
    "\n",
    "producer = Producer({'bootstrap.servers': broker})\n",
    "\n",
    "def send_data_to_kafka(file_path):\n",
    "    with open(file_path, 'r') as csv_file:\n",
    "        csv_reader = csv.DictReader(csv_file)\n",
    "        for row in csv_reader:\n",
    "            message_value = ','.join([f\"{key}={value}\" for key, value in row.items()])\n",
    "            producer.produce(topic=topic, value=message_value, key=row['StartTime'])\n",
    "            time.sleep(2)\n",
    "\n",
    "    producer.flush()\n",
    "\n",
    "# Specify the path to your CSV file\n",
    "csv_file_path = 'data/wustl_iiot_2021.csv' \n",
    "\n",
    "send_data_to_kafka(csv_file_path)"
   ]
  },
  {
   "cell_type": "code",
   "execution_count": null,
   "metadata": {},
   "outputs": [],
   "source": []
  }
 ],
 "metadata": {
  "kernelspec": {
   "display_name": "Python 3",
   "language": "python",
   "name": "python3"
  },
  "language_info": {
   "codemirror_mode": {
    "name": "ipython",
    "version": 3
   },
   "file_extension": ".py",
   "mimetype": "text/x-python",
   "name": "python",
   "nbconvert_exporter": "python",
   "pygments_lexer": "ipython3",
   "version": "3.9.6"
  },
  "orig_nbformat": 4
 },
 "nbformat": 4,
 "nbformat_minor": 2
}
